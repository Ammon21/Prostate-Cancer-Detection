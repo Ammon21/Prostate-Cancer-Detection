{
 "cells": [
  {
   "cell_type": "markdown",
   "metadata": {},
   "source": [
    "# Logistic Regression"
   ]
  },
  {
   "cell_type": "code",
   "execution_count": 98,
   "metadata": {},
   "outputs": [],
   "source": [
    "import plotly.express as px\n",
    "import pandas as pd\n",
    "import numpy as np\n",
    "import seaborn as sns\n",
    "import pickle\n",
    "# Import label encoder\n",
    "\n",
    "from sklearn import preprocessing\n",
    "label_encoder = preprocessing.LabelEncoder()\n",
    "from sklearn.preprocessing import StandardScaler, normalize\n",
    "from sklearn import linear_model\n",
    "\n",
    "from sklearn.model_selection import train_test_split\n",
    "\n",
    "import warnings\n",
    "warnings.filterwarnings('ignore')"
   ]
  },
  {
   "cell_type": "code",
   "execution_count": 99,
   "metadata": {},
   "outputs": [
    {
     "data": {
      "text/html": [
       "<div>\n",
       "<style scoped>\n",
       "    .dataframe tbody tr th:only-of-type {\n",
       "        vertical-align: middle;\n",
       "    }\n",
       "\n",
       "    .dataframe tbody tr th {\n",
       "        vertical-align: top;\n",
       "    }\n",
       "\n",
       "    .dataframe thead th {\n",
       "        text-align: right;\n",
       "    }\n",
       "</style>\n",
       "<table border=\"1\" class=\"dataframe\">\n",
       "  <thead>\n",
       "    <tr style=\"text-align: right;\">\n",
       "      <th></th>\n",
       "      <th>lcavol</th>\n",
       "      <th>weight</th>\n",
       "      <th>age</th>\n",
       "      <th>lbph</th>\n",
       "      <th>lcp</th>\n",
       "      <th>gleason</th>\n",
       "      <th>pgg45</th>\n",
       "      <th>lpsa</th>\n",
       "      <th>Target</th>\n",
       "    </tr>\n",
       "  </thead>\n",
       "  <tbody>\n",
       "    <tr>\n",
       "      <th>0</th>\n",
       "      <td>-0.579818</td>\n",
       "      <td>2.769459</td>\n",
       "      <td>50</td>\n",
       "      <td>-1.386294</td>\n",
       "      <td>-1.386294</td>\n",
       "      <td>6</td>\n",
       "      <td>0</td>\n",
       "      <td>-0.430783</td>\n",
       "      <td>0</td>\n",
       "    </tr>\n",
       "    <tr>\n",
       "      <th>1</th>\n",
       "      <td>-0.994252</td>\n",
       "      <td>3.319626</td>\n",
       "      <td>58</td>\n",
       "      <td>-1.386294</td>\n",
       "      <td>-1.386294</td>\n",
       "      <td>6</td>\n",
       "      <td>0</td>\n",
       "      <td>-0.162519</td>\n",
       "      <td>0</td>\n",
       "    </tr>\n",
       "    <tr>\n",
       "      <th>2</th>\n",
       "      <td>-0.510826</td>\n",
       "      <td>2.691243</td>\n",
       "      <td>74</td>\n",
       "      <td>-1.386294</td>\n",
       "      <td>-1.386294</td>\n",
       "      <td>7</td>\n",
       "      <td>20</td>\n",
       "      <td>-0.162519</td>\n",
       "      <td>0</td>\n",
       "    </tr>\n",
       "    <tr>\n",
       "      <th>3</th>\n",
       "      <td>-1.203973</td>\n",
       "      <td>3.282789</td>\n",
       "      <td>58</td>\n",
       "      <td>-1.386294</td>\n",
       "      <td>-1.386294</td>\n",
       "      <td>6</td>\n",
       "      <td>0</td>\n",
       "      <td>-0.162519</td>\n",
       "      <td>0</td>\n",
       "    </tr>\n",
       "    <tr>\n",
       "      <th>4</th>\n",
       "      <td>0.751416</td>\n",
       "      <td>3.432373</td>\n",
       "      <td>62</td>\n",
       "      <td>-1.386294</td>\n",
       "      <td>-1.386294</td>\n",
       "      <td>6</td>\n",
       "      <td>0</td>\n",
       "      <td>0.371564</td>\n",
       "      <td>0</td>\n",
       "    </tr>\n",
       "  </tbody>\n",
       "</table>\n",
       "</div>"
      ],
      "text/plain": [
       "     lcavol    weight  age      lbph       lcp  gleason  pgg45      lpsa  \\\n",
       "0 -0.579818  2.769459   50 -1.386294 -1.386294        6      0 -0.430783   \n",
       "1 -0.994252  3.319626   58 -1.386294 -1.386294        6      0 -0.162519   \n",
       "2 -0.510826  2.691243   74 -1.386294 -1.386294        7     20 -0.162519   \n",
       "3 -1.203973  3.282789   58 -1.386294 -1.386294        6      0 -0.162519   \n",
       "4  0.751416  3.432373   62 -1.386294 -1.386294        6      0  0.371564   \n",
       "\n",
       "   Target  \n",
       "0       0  \n",
       "1       0  \n",
       "2       0  \n",
       "3       0  \n",
       "4       0  "
      ]
     },
     "execution_count": 99,
     "metadata": {},
     "output_type": "execute_result"
    }
   ],
   "source": [
    "df = pd.read_csv(\"../data/prostate.csv\")\n",
    "df.head()"
   ]
  },
  {
   "cell_type": "code",
   "execution_count": 100,
   "metadata": {},
   "outputs": [
    {
     "data": {
      "text/plain": [
       "Index(['lcavol', 'weight', 'age', 'lbph', 'lcp', 'gleason', 'pgg45', 'lpsa',\n",
       "       'Target'],\n",
       "      dtype='object')"
      ]
     },
     "execution_count": 100,
     "metadata": {},
     "output_type": "execute_result"
    }
   ],
   "source": [
    "df.columns"
   ]
  },
  {
   "cell_type": "code",
   "execution_count": 101,
   "metadata": {},
   "outputs": [],
   "source": [
    "X = df[['lcavol', 'weight', 'age', 'lbph', 'lcp', 'gleason', 'pgg45', 'lpsa',]]\n",
    "Y = df['Target']"
   ]
  },
  {
   "cell_type": "code",
   "execution_count": 102,
   "metadata": {},
   "outputs": [],
   "source": [
    "x_train, x_test,y_train,y_test = train_test_split(X,Y,test_size =0.15)"
   ]
  },
  {
   "cell_type": "code",
   "execution_count": 103,
   "metadata": {},
   "outputs": [
    {
     "data": {
      "text/html": [
       "<style>#sk-container-id-15 {color: black;}#sk-container-id-15 pre{padding: 0;}#sk-container-id-15 div.sk-toggleable {background-color: white;}#sk-container-id-15 label.sk-toggleable__label {cursor: pointer;display: block;width: 100%;margin-bottom: 0;padding: 0.3em;box-sizing: border-box;text-align: center;}#sk-container-id-15 label.sk-toggleable__label-arrow:before {content: \"▸\";float: left;margin-right: 0.25em;color: #696969;}#sk-container-id-15 label.sk-toggleable__label-arrow:hover:before {color: black;}#sk-container-id-15 div.sk-estimator:hover label.sk-toggleable__label-arrow:before {color: black;}#sk-container-id-15 div.sk-toggleable__content {max-height: 0;max-width: 0;overflow: hidden;text-align: left;background-color: #f0f8ff;}#sk-container-id-15 div.sk-toggleable__content pre {margin: 0.2em;color: black;border-radius: 0.25em;background-color: #f0f8ff;}#sk-container-id-15 input.sk-toggleable__control:checked~div.sk-toggleable__content {max-height: 200px;max-width: 100%;overflow: auto;}#sk-container-id-15 input.sk-toggleable__control:checked~label.sk-toggleable__label-arrow:before {content: \"▾\";}#sk-container-id-15 div.sk-estimator input.sk-toggleable__control:checked~label.sk-toggleable__label {background-color: #d4ebff;}#sk-container-id-15 div.sk-label input.sk-toggleable__control:checked~label.sk-toggleable__label {background-color: #d4ebff;}#sk-container-id-15 input.sk-hidden--visually {border: 0;clip: rect(1px 1px 1px 1px);clip: rect(1px, 1px, 1px, 1px);height: 1px;margin: -1px;overflow: hidden;padding: 0;position: absolute;width: 1px;}#sk-container-id-15 div.sk-estimator {font-family: monospace;background-color: #f0f8ff;border: 1px dotted black;border-radius: 0.25em;box-sizing: border-box;margin-bottom: 0.5em;}#sk-container-id-15 div.sk-estimator:hover {background-color: #d4ebff;}#sk-container-id-15 div.sk-parallel-item::after {content: \"\";width: 100%;border-bottom: 1px solid gray;flex-grow: 1;}#sk-container-id-15 div.sk-label:hover label.sk-toggleable__label {background-color: #d4ebff;}#sk-container-id-15 div.sk-serial::before {content: \"\";position: absolute;border-left: 1px solid gray;box-sizing: border-box;top: 0;bottom: 0;left: 50%;z-index: 0;}#sk-container-id-15 div.sk-serial {display: flex;flex-direction: column;align-items: center;background-color: white;padding-right: 0.2em;padding-left: 0.2em;position: relative;}#sk-container-id-15 div.sk-item {position: relative;z-index: 1;}#sk-container-id-15 div.sk-parallel {display: flex;align-items: stretch;justify-content: center;background-color: white;position: relative;}#sk-container-id-15 div.sk-item::before, #sk-container-id-15 div.sk-parallel-item::before {content: \"\";position: absolute;border-left: 1px solid gray;box-sizing: border-box;top: 0;bottom: 0;left: 50%;z-index: -1;}#sk-container-id-15 div.sk-parallel-item {display: flex;flex-direction: column;z-index: 1;position: relative;background-color: white;}#sk-container-id-15 div.sk-parallel-item:first-child::after {align-self: flex-end;width: 50%;}#sk-container-id-15 div.sk-parallel-item:last-child::after {align-self: flex-start;width: 50%;}#sk-container-id-15 div.sk-parallel-item:only-child::after {width: 0;}#sk-container-id-15 div.sk-dashed-wrapped {border: 1px dashed gray;margin: 0 0.4em 0.5em 0.4em;box-sizing: border-box;padding-bottom: 0.4em;background-color: white;}#sk-container-id-15 div.sk-label label {font-family: monospace;font-weight: bold;display: inline-block;line-height: 1.2em;}#sk-container-id-15 div.sk-label-container {text-align: center;}#sk-container-id-15 div.sk-container {/* jupyter's `normalize.less` sets `[hidden] { display: none; }` but bootstrap.min.css set `[hidden] { display: none !important; }` so we also need the `!important` here to be able to override the default hidden behavior on the sphinx rendered scikit-learn.org. See: https://github.com/scikit-learn/scikit-learn/issues/21755 */display: inline-block !important;position: relative;}#sk-container-id-15 div.sk-text-repr-fallback {display: none;}</style><div id=\"sk-container-id-15\" class=\"sk-top-container\"><div class=\"sk-text-repr-fallback\"><pre>LogisticRegression()</pre><b>In a Jupyter environment, please rerun this cell to show the HTML representation or trust the notebook. <br />On GitHub, the HTML representation is unable to render, please try loading this page with nbviewer.org.</b></div><div class=\"sk-container\" hidden><div class=\"sk-item\"><div class=\"sk-estimator sk-toggleable\"><input class=\"sk-toggleable__control sk-hidden--visually\" id=\"sk-estimator-id-15\" type=\"checkbox\" checked><label for=\"sk-estimator-id-15\" class=\"sk-toggleable__label sk-toggleable__label-arrow\">LogisticRegression</label><div class=\"sk-toggleable__content\"><pre>LogisticRegression()</pre></div></div></div></div></div>"
      ],
      "text/plain": [
       "LogisticRegression()"
      ]
     },
     "execution_count": 103,
     "metadata": {},
     "output_type": "execute_result"
    }
   ],
   "source": [
    "from sklearn.linear_model import LogisticRegression\n",
    "\n",
    "model =  LogisticRegression()\n",
    "\n",
    "model.fit(x_train, y_train)"
   ]
  },
  {
   "cell_type": "code",
   "execution_count": 104,
   "metadata": {},
   "outputs": [
    {
     "data": {
      "text/plain": [
       "array([0, 0, 0, 0, 0, 0, 1, 0, 0, 0, 0, 0, 0, 0, 1], dtype=int64)"
      ]
     },
     "execution_count": 104,
     "metadata": {},
     "output_type": "execute_result"
    }
   ],
   "source": [
    "model.predict(x_test)"
   ]
  },
  {
   "cell_type": "code",
   "execution_count": 105,
   "metadata": {},
   "outputs": [
    {
     "data": {
      "text/plain": [
       "0.6666666666666666"
      ]
     },
     "execution_count": 105,
     "metadata": {},
     "output_type": "execute_result"
    }
   ],
   "source": [
    "model.score(x_test, y_test)"
   ]
  },
  {
   "cell_type": "code",
   "execution_count": 106,
   "metadata": {},
   "outputs": [],
   "source": [
    "#Saving models\n",
    "import pickle\n",
    "with open(\"../model/logreg_model.pkl\", \"wb\") as f:\n",
    "    pickle.dump(model, f)"
   ]
  },
  {
   "cell_type": "markdown",
   "metadata": {},
   "source": [
    "#### Our classification model is working quite well with a not inflated accurate 66% accuracy. we will use correlation to remove variables that are not as relevant to make our model perform better."
   ]
  },
  {
   "cell_type": "code",
   "execution_count": 107,
   "metadata": {},
   "outputs": [
    {
     "data": {
      "text/html": [
       "<style type=\"text/css\">\n",
       "#T_9c185_row0_col0, #T_9c185_row1_col1, #T_9c185_row2_col2, #T_9c185_row3_col3, #T_9c185_row4_col4, #T_9c185_row5_col5, #T_9c185_row6_col6, #T_9c185_row7_col7, #T_9c185_row8_col8 {\n",
       "  background-color: #ff00ff;\n",
       "  color: #f1f1f1;\n",
       "}\n",
       "#T_9c185_row0_col1 {\n",
       "  background-color: #3cc3ff;\n",
       "  color: #000000;\n",
       "}\n",
       "#T_9c185_row0_col2 {\n",
       "  background-color: #1fe0ff;\n",
       "  color: #000000;\n",
       "}\n",
       "#T_9c185_row0_col3, #T_9c185_row8_col1 {\n",
       "  background-color: #1ae5ff;\n",
       "  color: #000000;\n",
       "}\n",
       "#T_9c185_row0_col4 {\n",
       "  background-color: #ad52ff;\n",
       "  color: #f1f1f1;\n",
       "}\n",
       "#T_9c185_row0_col5 {\n",
       "  background-color: #659aff;\n",
       "  color: #f1f1f1;\n",
       "}\n",
       "#T_9c185_row0_col6 {\n",
       "  background-color: #629dff;\n",
       "  color: #f1f1f1;\n",
       "}\n",
       "#T_9c185_row0_col7 {\n",
       "  background-color: #ae51ff;\n",
       "  color: #f1f1f1;\n",
       "}\n",
       "#T_9c185_row0_col8 {\n",
       "  background-color: #936cff;\n",
       "  color: #f1f1f1;\n",
       "}\n",
       "#T_9c185_row1_col0, #T_9c185_row1_col2 {\n",
       "  background-color: #42bdff;\n",
       "  color: #000000;\n",
       "}\n",
       "#T_9c185_row1_col3, #T_9c185_row4_col5 {\n",
       "  background-color: #7c83ff;\n",
       "  color: #f1f1f1;\n",
       "}\n",
       "#T_9c185_row1_col4, #T_9c185_row5_col2 {\n",
       "  background-color: #2bd4ff;\n",
       "  color: #000000;\n",
       "}\n",
       "#T_9c185_row1_col5, #T_9c185_row2_col7, #T_9c185_row3_col0, #T_9c185_row3_col4, #T_9c185_row3_col6, #T_9c185_row3_col8, #T_9c185_row5_col1, #T_9c185_row8_col2, #T_9c185_row8_col3 {\n",
       "  background-color: #00ffff;\n",
       "  color: #000000;\n",
       "}\n",
       "#T_9c185_row1_col6 {\n",
       "  background-color: #08f7ff;\n",
       "  color: #000000;\n",
       "}\n",
       "#T_9c185_row1_col7 {\n",
       "  background-color: #51aeff;\n",
       "  color: #f1f1f1;\n",
       "}\n",
       "#T_9c185_row1_col8 {\n",
       "  background-color: #38c7ff;\n",
       "  color: #000000;\n",
       "}\n",
       "#T_9c185_row2_col0 {\n",
       "  background-color: #34cbff;\n",
       "  color: #000000;\n",
       "}\n",
       "#T_9c185_row2_col1 {\n",
       "  background-color: #4fb0ff;\n",
       "  color: #f1f1f1;\n",
       "}\n",
       "#T_9c185_row2_col3, #T_9c185_row7_col1 {\n",
       "  background-color: #6699ff;\n",
       "  color: #f1f1f1;\n",
       "}\n",
       "#T_9c185_row2_col4 {\n",
       "  background-color: #22ddff;\n",
       "  color: #000000;\n",
       "}\n",
       "#T_9c185_row2_col5 {\n",
       "  background-color: #39c6ff;\n",
       "  color: #000000;\n",
       "}\n",
       "#T_9c185_row2_col6 {\n",
       "  background-color: #36c9ff;\n",
       "  color: #000000;\n",
       "}\n",
       "#T_9c185_row2_col8 {\n",
       "  background-color: #2fd0ff;\n",
       "  color: #000000;\n",
       "}\n",
       "#T_9c185_row3_col1 {\n",
       "  background-color: #6897ff;\n",
       "  color: #f1f1f1;\n",
       "}\n",
       "#T_9c185_row3_col2 {\n",
       "  background-color: #43bcff;\n",
       "  color: #000000;\n",
       "}\n",
       "#T_9c185_row3_col5 {\n",
       "  background-color: #05faff;\n",
       "  color: #000000;\n",
       "}\n",
       "#T_9c185_row3_col7 {\n",
       "  background-color: #03fcff;\n",
       "  color: #000000;\n",
       "}\n",
       "#T_9c185_row4_col0 {\n",
       "  background-color: #aa55ff;\n",
       "  color: #f1f1f1;\n",
       "}\n",
       "#T_9c185_row4_col1 {\n",
       "  background-color: #1de2ff;\n",
       "  color: #000000;\n",
       "}\n",
       "#T_9c185_row4_col2 {\n",
       "  background-color: #02fdff;\n",
       "  color: #000000;\n",
       "}\n",
       "#T_9c185_row4_col3 {\n",
       "  background-color: #12edff;\n",
       "  color: #000000;\n",
       "}\n",
       "#T_9c185_row4_col6, #T_9c185_row7_col8 {\n",
       "  background-color: #9966ff;\n",
       "  color: #f1f1f1;\n",
       "}\n",
       "#T_9c185_row4_col7 {\n",
       "  background-color: #748bff;\n",
       "  color: #f1f1f1;\n",
       "}\n",
       "#T_9c185_row4_col8 {\n",
       "  background-color: #b24dff;\n",
       "  color: #f1f1f1;\n",
       "}\n",
       "#T_9c185_row5_col0, #T_9c185_row6_col0 {\n",
       "  background-color: #6a95ff;\n",
       "  color: #f1f1f1;\n",
       "}\n",
       "#T_9c185_row5_col3, #T_9c185_row6_col3 {\n",
       "  background-color: #26d9ff;\n",
       "  color: #000000;\n",
       "}\n",
       "#T_9c185_row5_col4 {\n",
       "  background-color: #847bff;\n",
       "  color: #f1f1f1;\n",
       "}\n",
       "#T_9c185_row5_col6 {\n",
       "  background-color: #bb44ff;\n",
       "  color: #f1f1f1;\n",
       "}\n",
       "#T_9c185_row5_col7 {\n",
       "  background-color: #3dc2ff;\n",
       "  color: #000000;\n",
       "}\n",
       "#T_9c185_row5_col8, #T_9c185_row7_col6 {\n",
       "  background-color: #5fa0ff;\n",
       "  color: #f1f1f1;\n",
       "}\n",
       "#T_9c185_row6_col1 {\n",
       "  background-color: #0df2ff;\n",
       "  color: #000000;\n",
       "}\n",
       "#T_9c185_row6_col2 {\n",
       "  background-color: #2dd2ff;\n",
       "  color: #000000;\n",
       "}\n",
       "#T_9c185_row6_col4 {\n",
       "  background-color: #a25dff;\n",
       "  color: #f1f1f1;\n",
       "}\n",
       "#T_9c185_row6_col5 {\n",
       "  background-color: #bc43ff;\n",
       "  color: #f1f1f1;\n",
       "}\n",
       "#T_9c185_row6_col7 {\n",
       "  background-color: #4db2ff;\n",
       "  color: #f1f1f1;\n",
       "}\n",
       "#T_9c185_row6_col8 {\n",
       "  background-color: #807fff;\n",
       "  color: #f1f1f1;\n",
       "}\n",
       "#T_9c185_row7_col0 {\n",
       "  background-color: #ba45ff;\n",
       "  color: #f1f1f1;\n",
       "}\n",
       "#T_9c185_row7_col2 {\n",
       "  background-color: #0ff0ff;\n",
       "  color: #000000;\n",
       "}\n",
       "#T_9c185_row7_col3 {\n",
       "  background-color: #3ec1ff;\n",
       "  color: #000000;\n",
       "}\n",
       "#T_9c185_row7_col4 {\n",
       "  background-color: #8d72ff;\n",
       "  color: #f1f1f1;\n",
       "}\n",
       "#T_9c185_row7_col5 {\n",
       "  background-color: #54abff;\n",
       "  color: #f1f1f1;\n",
       "}\n",
       "#T_9c185_row8_col0 {\n",
       "  background-color: #8679ff;\n",
       "  color: #f1f1f1;\n",
       "}\n",
       "#T_9c185_row8_col4 {\n",
       "  background-color: #ac53ff;\n",
       "  color: #f1f1f1;\n",
       "}\n",
       "#T_9c185_row8_col5 {\n",
       "  background-color: #47b8ff;\n",
       "  color: #000000;\n",
       "}\n",
       "#T_9c185_row8_col6 {\n",
       "  background-color: #6996ff;\n",
       "  color: #f1f1f1;\n",
       "}\n",
       "#T_9c185_row8_col7 {\n",
       "  background-color: #7a85ff;\n",
       "  color: #f1f1f1;\n",
       "}\n",
       "</style>\n",
       "<table id=\"T_9c185\">\n",
       "  <thead>\n",
       "    <tr>\n",
       "      <th class=\"blank level0\" >&nbsp;</th>\n",
       "      <th id=\"T_9c185_level0_col0\" class=\"col_heading level0 col0\" >lcavol</th>\n",
       "      <th id=\"T_9c185_level0_col1\" class=\"col_heading level0 col1\" >weight</th>\n",
       "      <th id=\"T_9c185_level0_col2\" class=\"col_heading level0 col2\" >age</th>\n",
       "      <th id=\"T_9c185_level0_col3\" class=\"col_heading level0 col3\" >lbph</th>\n",
       "      <th id=\"T_9c185_level0_col4\" class=\"col_heading level0 col4\" >lcp</th>\n",
       "      <th id=\"T_9c185_level0_col5\" class=\"col_heading level0 col5\" >gleason</th>\n",
       "      <th id=\"T_9c185_level0_col6\" class=\"col_heading level0 col6\" >pgg45</th>\n",
       "      <th id=\"T_9c185_level0_col7\" class=\"col_heading level0 col7\" >lpsa</th>\n",
       "      <th id=\"T_9c185_level0_col8\" class=\"col_heading level0 col8\" >Target</th>\n",
       "    </tr>\n",
       "  </thead>\n",
       "  <tbody>\n",
       "    <tr>\n",
       "      <th id=\"T_9c185_level0_row0\" class=\"row_heading level0 row0\" >lcavol</th>\n",
       "      <td id=\"T_9c185_row0_col0\" class=\"data row0 col0\" >1.000000</td>\n",
       "      <td id=\"T_9c185_row0_col1\" class=\"data row0 col1\" >0.280521</td>\n",
       "      <td id=\"T_9c185_row0_col2\" class=\"data row0 col2\" >0.225000</td>\n",
       "      <td id=\"T_9c185_row0_col3\" class=\"data row0 col3\" >0.027350</td>\n",
       "      <td id=\"T_9c185_row0_col4\" class=\"data row0 col4\" >0.675310</td>\n",
       "      <td id=\"T_9c185_row0_col5\" class=\"data row0 col5\" >0.432417</td>\n",
       "      <td id=\"T_9c185_row0_col6\" class=\"data row0 col6\" >0.433652</td>\n",
       "      <td id=\"T_9c185_row0_col7\" class=\"data row0 col7\" >0.734460</td>\n",
       "      <td id=\"T_9c185_row0_col8\" class=\"data row0 col8\" >0.538845</td>\n",
       "    </tr>\n",
       "    <tr>\n",
       "      <th id=\"T_9c185_level0_row1\" class=\"row_heading level0 row1\" >weight</th>\n",
       "      <td id=\"T_9c185_row1_col0\" class=\"data row1 col0\" >0.280521</td>\n",
       "      <td id=\"T_9c185_row1_col1\" class=\"data row1 col1\" >1.000000</td>\n",
       "      <td id=\"T_9c185_row1_col2\" class=\"data row1 col2\" >0.347969</td>\n",
       "      <td id=\"T_9c185_row1_col3\" class=\"data row1 col3\" >0.442264</td>\n",
       "      <td id=\"T_9c185_row1_col4\" class=\"data row1 col4\" >0.164537</td>\n",
       "      <td id=\"T_9c185_row1_col5\" class=\"data row1 col5\" >0.056882</td>\n",
       "      <td id=\"T_9c185_row1_col6\" class=\"data row1 col6\" >0.107354</td>\n",
       "      <td id=\"T_9c185_row1_col7\" class=\"data row1 col7\" >0.433319</td>\n",
       "      <td id=\"T_9c185_row1_col8\" class=\"data row1 col8\" >0.155385</td>\n",
       "    </tr>\n",
       "    <tr>\n",
       "      <th id=\"T_9c185_level0_row2\" class=\"row_heading level0 row2\" >age</th>\n",
       "      <td id=\"T_9c185_row2_col0\" class=\"data row2 col0\" >0.225000</td>\n",
       "      <td id=\"T_9c185_row2_col1\" class=\"data row2 col1\" >0.347969</td>\n",
       "      <td id=\"T_9c185_row2_col2\" class=\"data row2 col2\" >1.000000</td>\n",
       "      <td id=\"T_9c185_row2_col3\" class=\"data row2 col3\" >0.350186</td>\n",
       "      <td id=\"T_9c185_row2_col4\" class=\"data row2 col4\" >0.127668</td>\n",
       "      <td id=\"T_9c185_row2_col5\" class=\"data row2 col5\" >0.268892</td>\n",
       "      <td id=\"T_9c185_row2_col6\" class=\"data row2 col6\" >0.276112</td>\n",
       "      <td id=\"T_9c185_row2_col7\" class=\"data row2 col7\" >0.169593</td>\n",
       "      <td id=\"T_9c185_row2_col8\" class=\"data row2 col8\" >0.117658</td>\n",
       "    </tr>\n",
       "    <tr>\n",
       "      <th id=\"T_9c185_level0_row3\" class=\"row_heading level0 row3\" >lbph</th>\n",
       "      <td id=\"T_9c185_row3_col0\" class=\"data row3 col0\" >0.027350</td>\n",
       "      <td id=\"T_9c185_row3_col1\" class=\"data row3 col1\" >0.442264</td>\n",
       "      <td id=\"T_9c185_row3_col2\" class=\"data row3 col2\" >0.350186</td>\n",
       "      <td id=\"T_9c185_row3_col3\" class=\"data row3 col3\" >1.000000</td>\n",
       "      <td id=\"T_9c185_row3_col4\" class=\"data row3 col4\" >-0.006999</td>\n",
       "      <td id=\"T_9c185_row3_col5\" class=\"data row3 col5\" >0.077820</td>\n",
       "      <td id=\"T_9c185_row3_col6\" class=\"data row3 col6\" >0.078460</td>\n",
       "      <td id=\"T_9c185_row3_col7\" class=\"data row3 col7\" >0.179809</td>\n",
       "      <td id=\"T_9c185_row3_col8\" class=\"data row3 col8\" >-0.085843</td>\n",
       "    </tr>\n",
       "    <tr>\n",
       "      <th id=\"T_9c185_level0_row4\" class=\"row_heading level0 row4\" >lcp</th>\n",
       "      <td id=\"T_9c185_row4_col0\" class=\"data row4 col0\" >0.675310</td>\n",
       "      <td id=\"T_9c185_row4_col1\" class=\"data row4 col1\" >0.164537</td>\n",
       "      <td id=\"T_9c185_row4_col2\" class=\"data row4 col2\" >0.127668</td>\n",
       "      <td id=\"T_9c185_row4_col3\" class=\"data row4 col3\" >-0.006999</td>\n",
       "      <td id=\"T_9c185_row4_col4\" class=\"data row4 col4\" >1.000000</td>\n",
       "      <td id=\"T_9c185_row4_col5\" class=\"data row4 col5\" >0.514830</td>\n",
       "      <td id=\"T_9c185_row4_col6\" class=\"data row4 col6\" >0.631528</td>\n",
       "      <td id=\"T_9c185_row4_col7\" class=\"data row4 col7\" >0.548813</td>\n",
       "      <td id=\"T_9c185_row4_col8\" class=\"data row4 col8\" >0.673111</td>\n",
       "    </tr>\n",
       "    <tr>\n",
       "      <th id=\"T_9c185_level0_row5\" class=\"row_heading level0 row5\" >gleason</th>\n",
       "      <td id=\"T_9c185_row5_col0\" class=\"data row5 col0\" >0.432417</td>\n",
       "      <td id=\"T_9c185_row5_col1\" class=\"data row5 col1\" >0.056882</td>\n",
       "      <td id=\"T_9c185_row5_col2\" class=\"data row5 col2\" >0.268892</td>\n",
       "      <td id=\"T_9c185_row5_col3\" class=\"data row5 col3\" >0.077820</td>\n",
       "      <td id=\"T_9c185_row5_col4\" class=\"data row5 col4\" >0.514830</td>\n",
       "      <td id=\"T_9c185_row5_col5\" class=\"data row5 col5\" >1.000000</td>\n",
       "      <td id=\"T_9c185_row5_col6\" class=\"data row5 col6\" >0.751905</td>\n",
       "      <td id=\"T_9c185_row5_col7\" class=\"data row5 col7\" >0.368987</td>\n",
       "      <td id=\"T_9c185_row5_col8\" class=\"data row5 col8\" >0.320412</td>\n",
       "    </tr>\n",
       "    <tr>\n",
       "      <th id=\"T_9c185_level0_row6\" class=\"row_heading level0 row6\" >pgg45</th>\n",
       "      <td id=\"T_9c185_row6_col0\" class=\"data row6 col0\" >0.433652</td>\n",
       "      <td id=\"T_9c185_row6_col1\" class=\"data row6 col1\" >0.107354</td>\n",
       "      <td id=\"T_9c185_row6_col2\" class=\"data row6 col2\" >0.276112</td>\n",
       "      <td id=\"T_9c185_row6_col3\" class=\"data row6 col3\" >0.078460</td>\n",
       "      <td id=\"T_9c185_row6_col4\" class=\"data row6 col4\" >0.631528</td>\n",
       "      <td id=\"T_9c185_row6_col5\" class=\"data row6 col5\" >0.751905</td>\n",
       "      <td id=\"T_9c185_row6_col6\" class=\"data row6 col6\" >1.000000</td>\n",
       "      <td id=\"T_9c185_row6_col7\" class=\"data row6 col7\" >0.422316</td>\n",
       "      <td id=\"T_9c185_row6_col8\" class=\"data row6 col8\" >0.457648</td>\n",
       "    </tr>\n",
       "    <tr>\n",
       "      <th id=\"T_9c185_level0_row7\" class=\"row_heading level0 row7\" >lpsa</th>\n",
       "      <td id=\"T_9c185_row7_col0\" class=\"data row7 col0\" >0.734460</td>\n",
       "      <td id=\"T_9c185_row7_col1\" class=\"data row7 col1\" >0.433319</td>\n",
       "      <td id=\"T_9c185_row7_col2\" class=\"data row7 col2\" >0.169593</td>\n",
       "      <td id=\"T_9c185_row7_col3\" class=\"data row7 col3\" >0.179809</td>\n",
       "      <td id=\"T_9c185_row7_col4\" class=\"data row7 col4\" >0.548813</td>\n",
       "      <td id=\"T_9c185_row7_col5\" class=\"data row7 col5\" >0.368987</td>\n",
       "      <td id=\"T_9c185_row7_col6\" class=\"data row7 col6\" >0.422316</td>\n",
       "      <td id=\"T_9c185_row7_col7\" class=\"data row7 col7\" >1.000000</td>\n",
       "      <td id=\"T_9c185_row7_col8\" class=\"data row7 col8\" >0.566218</td>\n",
       "    </tr>\n",
       "    <tr>\n",
       "      <th id=\"T_9c185_level0_row8\" class=\"row_heading level0 row8\" >Target</th>\n",
       "      <td id=\"T_9c185_row8_col0\" class=\"data row8 col0\" >0.538845</td>\n",
       "      <td id=\"T_9c185_row8_col1\" class=\"data row8 col1\" >0.155385</td>\n",
       "      <td id=\"T_9c185_row8_col2\" class=\"data row8 col2\" >0.117658</td>\n",
       "      <td id=\"T_9c185_row8_col3\" class=\"data row8 col3\" >-0.085843</td>\n",
       "      <td id=\"T_9c185_row8_col4\" class=\"data row8 col4\" >0.673111</td>\n",
       "      <td id=\"T_9c185_row8_col5\" class=\"data row8 col5\" >0.320412</td>\n",
       "      <td id=\"T_9c185_row8_col6\" class=\"data row8 col6\" >0.457648</td>\n",
       "      <td id=\"T_9c185_row8_col7\" class=\"data row8 col7\" >0.566218</td>\n",
       "      <td id=\"T_9c185_row8_col8\" class=\"data row8 col8\" >1.000000</td>\n",
       "    </tr>\n",
       "  </tbody>\n",
       "</table>\n"
      ],
      "text/plain": [
       "<pandas.io.formats.style.Styler at 0x1f2a0648340>"
      ]
     },
     "execution_count": 107,
     "metadata": {},
     "output_type": "execute_result"
    }
   ],
   "source": [
    "corelation =  df.corr() \n",
    "corelation.style.background_gradient(cmap = \"cool\")"
   ]
  },
  {
   "cell_type": "code",
   "execution_count": 108,
   "metadata": {},
   "outputs": [
    {
     "data": {
      "text/plain": [
       "Index(['lcavol', 'weight', 'age', 'lbph', 'lcp', 'gleason', 'pgg45', 'lpsa',\n",
       "       'Target'],\n",
       "      dtype='object')"
      ]
     },
     "execution_count": 108,
     "metadata": {},
     "output_type": "execute_result"
    }
   ],
   "source": [
    "df.columns"
   ]
  },
  {
   "cell_type": "code",
   "execution_count": 109,
   "metadata": {},
   "outputs": [],
   "source": [
    "I = df[['lcavol','weight', 'lcp', 'gleason', 'pgg45', 'lpsa']]\n",
    "J = df[['Target']]"
   ]
  },
  {
   "cell_type": "code",
   "execution_count": 110,
   "metadata": {},
   "outputs": [],
   "source": [
    "i_train, i_test,j_train,j_test = train_test_split(I,J,test_size =0.15)"
   ]
  },
  {
   "cell_type": "code",
   "execution_count": 111,
   "metadata": {},
   "outputs": [
    {
     "data": {
      "text/html": [
       "<style>#sk-container-id-16 {color: black;}#sk-container-id-16 pre{padding: 0;}#sk-container-id-16 div.sk-toggleable {background-color: white;}#sk-container-id-16 label.sk-toggleable__label {cursor: pointer;display: block;width: 100%;margin-bottom: 0;padding: 0.3em;box-sizing: border-box;text-align: center;}#sk-container-id-16 label.sk-toggleable__label-arrow:before {content: \"▸\";float: left;margin-right: 0.25em;color: #696969;}#sk-container-id-16 label.sk-toggleable__label-arrow:hover:before {color: black;}#sk-container-id-16 div.sk-estimator:hover label.sk-toggleable__label-arrow:before {color: black;}#sk-container-id-16 div.sk-toggleable__content {max-height: 0;max-width: 0;overflow: hidden;text-align: left;background-color: #f0f8ff;}#sk-container-id-16 div.sk-toggleable__content pre {margin: 0.2em;color: black;border-radius: 0.25em;background-color: #f0f8ff;}#sk-container-id-16 input.sk-toggleable__control:checked~div.sk-toggleable__content {max-height: 200px;max-width: 100%;overflow: auto;}#sk-container-id-16 input.sk-toggleable__control:checked~label.sk-toggleable__label-arrow:before {content: \"▾\";}#sk-container-id-16 div.sk-estimator input.sk-toggleable__control:checked~label.sk-toggleable__label {background-color: #d4ebff;}#sk-container-id-16 div.sk-label input.sk-toggleable__control:checked~label.sk-toggleable__label {background-color: #d4ebff;}#sk-container-id-16 input.sk-hidden--visually {border: 0;clip: rect(1px 1px 1px 1px);clip: rect(1px, 1px, 1px, 1px);height: 1px;margin: -1px;overflow: hidden;padding: 0;position: absolute;width: 1px;}#sk-container-id-16 div.sk-estimator {font-family: monospace;background-color: #f0f8ff;border: 1px dotted black;border-radius: 0.25em;box-sizing: border-box;margin-bottom: 0.5em;}#sk-container-id-16 div.sk-estimator:hover {background-color: #d4ebff;}#sk-container-id-16 div.sk-parallel-item::after {content: \"\";width: 100%;border-bottom: 1px solid gray;flex-grow: 1;}#sk-container-id-16 div.sk-label:hover label.sk-toggleable__label {background-color: #d4ebff;}#sk-container-id-16 div.sk-serial::before {content: \"\";position: absolute;border-left: 1px solid gray;box-sizing: border-box;top: 0;bottom: 0;left: 50%;z-index: 0;}#sk-container-id-16 div.sk-serial {display: flex;flex-direction: column;align-items: center;background-color: white;padding-right: 0.2em;padding-left: 0.2em;position: relative;}#sk-container-id-16 div.sk-item {position: relative;z-index: 1;}#sk-container-id-16 div.sk-parallel {display: flex;align-items: stretch;justify-content: center;background-color: white;position: relative;}#sk-container-id-16 div.sk-item::before, #sk-container-id-16 div.sk-parallel-item::before {content: \"\";position: absolute;border-left: 1px solid gray;box-sizing: border-box;top: 0;bottom: 0;left: 50%;z-index: -1;}#sk-container-id-16 div.sk-parallel-item {display: flex;flex-direction: column;z-index: 1;position: relative;background-color: white;}#sk-container-id-16 div.sk-parallel-item:first-child::after {align-self: flex-end;width: 50%;}#sk-container-id-16 div.sk-parallel-item:last-child::after {align-self: flex-start;width: 50%;}#sk-container-id-16 div.sk-parallel-item:only-child::after {width: 0;}#sk-container-id-16 div.sk-dashed-wrapped {border: 1px dashed gray;margin: 0 0.4em 0.5em 0.4em;box-sizing: border-box;padding-bottom: 0.4em;background-color: white;}#sk-container-id-16 div.sk-label label {font-family: monospace;font-weight: bold;display: inline-block;line-height: 1.2em;}#sk-container-id-16 div.sk-label-container {text-align: center;}#sk-container-id-16 div.sk-container {/* jupyter's `normalize.less` sets `[hidden] { display: none; }` but bootstrap.min.css set `[hidden] { display: none !important; }` so we also need the `!important` here to be able to override the default hidden behavior on the sphinx rendered scikit-learn.org. See: https://github.com/scikit-learn/scikit-learn/issues/21755 */display: inline-block !important;position: relative;}#sk-container-id-16 div.sk-text-repr-fallback {display: none;}</style><div id=\"sk-container-id-16\" class=\"sk-top-container\"><div class=\"sk-text-repr-fallback\"><pre>LogisticRegression()</pre><b>In a Jupyter environment, please rerun this cell to show the HTML representation or trust the notebook. <br />On GitHub, the HTML representation is unable to render, please try loading this page with nbviewer.org.</b></div><div class=\"sk-container\" hidden><div class=\"sk-item\"><div class=\"sk-estimator sk-toggleable\"><input class=\"sk-toggleable__control sk-hidden--visually\" id=\"sk-estimator-id-16\" type=\"checkbox\" checked><label for=\"sk-estimator-id-16\" class=\"sk-toggleable__label sk-toggleable__label-arrow\">LogisticRegression</label><div class=\"sk-toggleable__content\"><pre>LogisticRegression()</pre></div></div></div></div></div>"
      ],
      "text/plain": [
       "LogisticRegression()"
      ]
     },
     "execution_count": 111,
     "metadata": {},
     "output_type": "execute_result"
    }
   ],
   "source": [
    "from sklearn.linear_model import LogisticRegression\n",
    "\n",
    "model =  LogisticRegression()\n",
    "\n",
    "model.fit(i_train, j_train)"
   ]
  },
  {
   "cell_type": "code",
   "execution_count": 112,
   "metadata": {},
   "outputs": [
    {
     "data": {
      "text/plain": [
       "array([1, 0, 0, 0, 0, 0, 0, 0, 0, 1, 0, 0, 0, 0, 0], dtype=int64)"
      ]
     },
     "execution_count": 112,
     "metadata": {},
     "output_type": "execute_result"
    }
   ],
   "source": [
    "model.predict(i_test)"
   ]
  },
  {
   "cell_type": "code",
   "execution_count": 113,
   "metadata": {},
   "outputs": [
    {
     "data": {
      "text/plain": [
       "1.0"
      ]
     },
     "execution_count": 113,
     "metadata": {},
     "output_type": "execute_result"
    }
   ],
   "source": [
    "model.score(i_test, j_test)"
   ]
  }
 ],
 "metadata": {
  "kernelspec": {
   "display_name": "Python 3",
   "language": "python",
   "name": "python3"
  },
  "language_info": {
   "codemirror_mode": {
    "name": "ipython",
    "version": 3
   },
   "file_extension": ".py",
   "mimetype": "text/x-python",
   "name": "python",
   "nbconvert_exporter": "python",
   "pygments_lexer": "ipython3",
   "version": "3.10.11"
  }
 },
 "nbformat": 4,
 "nbformat_minor": 2
}
